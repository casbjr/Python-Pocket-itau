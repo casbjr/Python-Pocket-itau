{
  "nbformat": 4,
  "nbformat_minor": 0,
  "metadata": {
    "colab": {
      "name": "Pocket Itaú",
      "provenance": [],
      "mount_file_id": "1vRQi7N0IVYixRH4pl_Ufxih-xRGdHdWw",
      "authorship_tag": "ABX9TyPmyaF1HjU1B0SLWa5mKRKq",
      "include_colab_link": true
    },
    "kernelspec": {
      "name": "python3",
      "display_name": "Python 3"
    }
  },
  "cells": [
    {
      "cell_type": "markdown",
      "metadata": {
        "id": "view-in-github",
        "colab_type": "text"
      },
      "source": [
        "<a href=\"https://colab.research.google.com/github/casbjr/Python-Pocket-itau/blob/master/Pocket_Ita%C3%BA.ipynb\" target=\"_parent\"><img src=\"https://colab.research.google.com/assets/colab-badge.svg\" alt=\"Open In Colab\"/></a>"
      ]
    },
    {
      "cell_type": "markdown",
      "metadata": {
        "id": "HPPwSVDEm9vY",
        "colab_type": "text"
      },
      "source": [
        "#Curso Pocket Itaú Tecnologia - Python\n",
        "\n",
        "<p align=center><img src=\"https://media-exp1.licdn.com/dms/image/C4E22AQG9a3K3POmqjw/feedshare-shrink_1280/0?e=1600905600&v=beta&t=qEsG0rPU7TLauSzJSmjAP0-gzZjIAUZMAZldfMEyOZs\" width=\"700px\"></p>\n",
        "\n",
        "Este notebook possui o conteúdo do curso pocket de Python, oferecido pelo Itaú, e ministrado pelo Nivaldo Teixeira e Yuri Souza, em 2020-06-12.\n",
        "\n",
        "Esse curso apresentou algumas das técnicas de análise exploratória de dados. A ideia era ter insights à partir de um dataset sobre o COVID pelo mundo."
      ]
    },
    {
      "cell_type": "code",
      "metadata": {
        "id": "uS9Z0RGfNAdA",
        "colab_type": "code",
        "colab": {
          "base_uri": "https://localhost:8080/",
          "height": 51
        },
        "outputId": "b128777e-d0eb-4a99-c028-ba2bbf1f2a16"
      },
      "source": [
        "import pandas as pd\n",
        "import matplotlib.pyplot as plt\n",
        "import seaborn as sns"
      ],
      "execution_count": 1,
      "outputs": [
        {
          "output_type": "stream",
          "text": [
            "/usr/local/lib/python3.6/dist-packages/statsmodels/tools/_testing.py:19: FutureWarning: pandas.util.testing is deprecated. Use the functions in the public API at pandas.testing instead.\n",
            "  import pandas.util.testing as tm\n"
          ],
          "name": "stderr"
        }
      ]
    },
    {
      "cell_type": "code",
      "metadata": {
        "id": "p5xRnt7LOCBM",
        "colab_type": "code",
        "colab": {
          "base_uri": "https://localhost:8080/",
          "height": 197
        },
        "outputId": "7a0eeae2-2d6b-46db-cb39-ed76f5240a54"
      },
      "source": [
        "#df = pd.read_excel('/content/COVID-19-geographic-disbtribution-worldwide-2020-06-10.xlsx')\n",
        "df = pd.read_csv('https://raw.githubusercontent.com/casbjr/Python-Pocket-itau/master/COVID-19-geographic-disbtribution-worldwide-2020-06-10.csv', sep=';', decimal='.')\n",
        "df.head()"
      ],
      "execution_count": 2,
      "outputs": [
        {
          "output_type": "execute_result",
          "data": {
            "text/html": [
              "<div>\n",
              "<style scoped>\n",
              "    .dataframe tbody tr th:only-of-type {\n",
              "        vertical-align: middle;\n",
              "    }\n",
              "\n",
              "    .dataframe tbody tr th {\n",
              "        vertical-align: top;\n",
              "    }\n",
              "\n",
              "    .dataframe thead th {\n",
              "        text-align: right;\n",
              "    }\n",
              "</style>\n",
              "<table border=\"1\" class=\"dataframe\">\n",
              "  <thead>\n",
              "    <tr style=\"text-align: right;\">\n",
              "      <th></th>\n",
              "      <th>dateRep</th>\n",
              "      <th>day</th>\n",
              "      <th>month</th>\n",
              "      <th>year</th>\n",
              "      <th>cases</th>\n",
              "      <th>deaths</th>\n",
              "      <th>countriesAndTerritories</th>\n",
              "      <th>geoId</th>\n",
              "      <th>countryterritoryCode</th>\n",
              "      <th>popData2018</th>\n",
              "      <th>continentExp</th>\n",
              "    </tr>\n",
              "  </thead>\n",
              "  <tbody>\n",
              "    <tr>\n",
              "      <th>0</th>\n",
              "      <td>10/06/2020</td>\n",
              "      <td>10</td>\n",
              "      <td>6</td>\n",
              "      <td>2020</td>\n",
              "      <td>542</td>\n",
              "      <td>15</td>\n",
              "      <td>Afghanistan</td>\n",
              "      <td>AF</td>\n",
              "      <td>AFG</td>\n",
              "      <td>37172386.0</td>\n",
              "      <td>Asia</td>\n",
              "    </tr>\n",
              "    <tr>\n",
              "      <th>1</th>\n",
              "      <td>09/06/2020</td>\n",
              "      <td>9</td>\n",
              "      <td>6</td>\n",
              "      <td>2020</td>\n",
              "      <td>575</td>\n",
              "      <td>12</td>\n",
              "      <td>Afghanistan</td>\n",
              "      <td>AF</td>\n",
              "      <td>AFG</td>\n",
              "      <td>37172386.0</td>\n",
              "      <td>Asia</td>\n",
              "    </tr>\n",
              "    <tr>\n",
              "      <th>2</th>\n",
              "      <td>08/06/2020</td>\n",
              "      <td>8</td>\n",
              "      <td>6</td>\n",
              "      <td>2020</td>\n",
              "      <td>791</td>\n",
              "      <td>30</td>\n",
              "      <td>Afghanistan</td>\n",
              "      <td>AF</td>\n",
              "      <td>AFG</td>\n",
              "      <td>37172386.0</td>\n",
              "      <td>Asia</td>\n",
              "    </tr>\n",
              "    <tr>\n",
              "      <th>3</th>\n",
              "      <td>07/06/2020</td>\n",
              "      <td>7</td>\n",
              "      <td>6</td>\n",
              "      <td>2020</td>\n",
              "      <td>582</td>\n",
              "      <td>18</td>\n",
              "      <td>Afghanistan</td>\n",
              "      <td>AF</td>\n",
              "      <td>AFG</td>\n",
              "      <td>37172386.0</td>\n",
              "      <td>Asia</td>\n",
              "    </tr>\n",
              "    <tr>\n",
              "      <th>4</th>\n",
              "      <td>06/06/2020</td>\n",
              "      <td>6</td>\n",
              "      <td>6</td>\n",
              "      <td>2020</td>\n",
              "      <td>915</td>\n",
              "      <td>9</td>\n",
              "      <td>Afghanistan</td>\n",
              "      <td>AF</td>\n",
              "      <td>AFG</td>\n",
              "      <td>37172386.0</td>\n",
              "      <td>Asia</td>\n",
              "    </tr>\n",
              "  </tbody>\n",
              "</table>\n",
              "</div>"
            ],
            "text/plain": [
              "      dateRep  day  month  ...  countryterritoryCode  popData2018  continentExp\n",
              "0  10/06/2020   10      6  ...                   AFG   37172386.0          Asia\n",
              "1  09/06/2020    9      6  ...                   AFG   37172386.0          Asia\n",
              "2  08/06/2020    8      6  ...                   AFG   37172386.0          Asia\n",
              "3  07/06/2020    7      6  ...                   AFG   37172386.0          Asia\n",
              "4  06/06/2020    6      6  ...                   AFG   37172386.0          Asia\n",
              "\n",
              "[5 rows x 11 columns]"
            ]
          },
          "metadata": {
            "tags": []
          },
          "execution_count": 2
        }
      ]
    },
    {
      "cell_type": "code",
      "metadata": {
        "id": "0kUfQBSFOLUD",
        "colab_type": "code",
        "colab": {
          "base_uri": "https://localhost:8080/",
          "height": 34
        },
        "outputId": "d7ecaf53-9aae-487f-ed54-62b676427e08"
      },
      "source": [
        "type(df)"
      ],
      "execution_count": 3,
      "outputs": [
        {
          "output_type": "execute_result",
          "data": {
            "text/plain": [
              "pandas.core.frame.DataFrame"
            ]
          },
          "metadata": {
            "tags": []
          },
          "execution_count": 3
        }
      ]
    },
    {
      "cell_type": "code",
      "metadata": {
        "id": "_hofSTK4TZK4",
        "colab_type": "code",
        "colab": {
          "base_uri": "https://localhost:8080/",
          "height": 405
        },
        "outputId": "7c428d27-cbc4-47f9-ae62-cf1cdab9f0e8"
      },
      "source": [
        "df[['day','countriesAndTerritories']]"
      ],
      "execution_count": 4,
      "outputs": [
        {
          "output_type": "execute_result",
          "data": {
            "text/html": [
              "<div>\n",
              "<style scoped>\n",
              "    .dataframe tbody tr th:only-of-type {\n",
              "        vertical-align: middle;\n",
              "    }\n",
              "\n",
              "    .dataframe tbody tr th {\n",
              "        vertical-align: top;\n",
              "    }\n",
              "\n",
              "    .dataframe thead th {\n",
              "        text-align: right;\n",
              "    }\n",
              "</style>\n",
              "<table border=\"1\" class=\"dataframe\">\n",
              "  <thead>\n",
              "    <tr style=\"text-align: right;\">\n",
              "      <th></th>\n",
              "      <th>day</th>\n",
              "      <th>countriesAndTerritories</th>\n",
              "    </tr>\n",
              "  </thead>\n",
              "  <tbody>\n",
              "    <tr>\n",
              "      <th>0</th>\n",
              "      <td>10</td>\n",
              "      <td>Afghanistan</td>\n",
              "    </tr>\n",
              "    <tr>\n",
              "      <th>1</th>\n",
              "      <td>9</td>\n",
              "      <td>Afghanistan</td>\n",
              "    </tr>\n",
              "    <tr>\n",
              "      <th>2</th>\n",
              "      <td>8</td>\n",
              "      <td>Afghanistan</td>\n",
              "    </tr>\n",
              "    <tr>\n",
              "      <th>3</th>\n",
              "      <td>7</td>\n",
              "      <td>Afghanistan</td>\n",
              "    </tr>\n",
              "    <tr>\n",
              "      <th>4</th>\n",
              "      <td>6</td>\n",
              "      <td>Afghanistan</td>\n",
              "    </tr>\n",
              "    <tr>\n",
              "      <th>...</th>\n",
              "      <td>...</td>\n",
              "      <td>...</td>\n",
              "    </tr>\n",
              "    <tr>\n",
              "      <th>22587</th>\n",
              "      <td>25</td>\n",
              "      <td>Zimbabwe</td>\n",
              "    </tr>\n",
              "    <tr>\n",
              "      <th>22588</th>\n",
              "      <td>24</td>\n",
              "      <td>Zimbabwe</td>\n",
              "    </tr>\n",
              "    <tr>\n",
              "      <th>22589</th>\n",
              "      <td>23</td>\n",
              "      <td>Zimbabwe</td>\n",
              "    </tr>\n",
              "    <tr>\n",
              "      <th>22590</th>\n",
              "      <td>22</td>\n",
              "      <td>Zimbabwe</td>\n",
              "    </tr>\n",
              "    <tr>\n",
              "      <th>22591</th>\n",
              "      <td>21</td>\n",
              "      <td>Zimbabwe</td>\n",
              "    </tr>\n",
              "  </tbody>\n",
              "</table>\n",
              "<p>22592 rows × 2 columns</p>\n",
              "</div>"
            ],
            "text/plain": [
              "       day countriesAndTerritories\n",
              "0       10             Afghanistan\n",
              "1        9             Afghanistan\n",
              "2        8             Afghanistan\n",
              "3        7             Afghanistan\n",
              "4        6             Afghanistan\n",
              "...    ...                     ...\n",
              "22587   25                Zimbabwe\n",
              "22588   24                Zimbabwe\n",
              "22589   23                Zimbabwe\n",
              "22590   22                Zimbabwe\n",
              "22591   21                Zimbabwe\n",
              "\n",
              "[22592 rows x 2 columns]"
            ]
          },
          "metadata": {
            "tags": []
          },
          "execution_count": 4
        }
      ]
    },
    {
      "cell_type": "code",
      "metadata": {
        "id": "ofbQg5NCSVKp",
        "colab_type": "code",
        "colab": {
          "base_uri": "https://localhost:8080/",
          "height": 197
        },
        "outputId": "6e2dd66f-4fe1-4fd3-9dec-226e83ca3884"
      },
      "source": [
        "brasil = df[df['countriesAndTerritories']=='Brazil']\n",
        "brasil.head()"
      ],
      "execution_count": 5,
      "outputs": [
        {
          "output_type": "execute_result",
          "data": {
            "text/html": [
              "<div>\n",
              "<style scoped>\n",
              "    .dataframe tbody tr th:only-of-type {\n",
              "        vertical-align: middle;\n",
              "    }\n",
              "\n",
              "    .dataframe tbody tr th {\n",
              "        vertical-align: top;\n",
              "    }\n",
              "\n",
              "    .dataframe thead th {\n",
              "        text-align: right;\n",
              "    }\n",
              "</style>\n",
              "<table border=\"1\" class=\"dataframe\">\n",
              "  <thead>\n",
              "    <tr style=\"text-align: right;\">\n",
              "      <th></th>\n",
              "      <th>dateRep</th>\n",
              "      <th>day</th>\n",
              "      <th>month</th>\n",
              "      <th>year</th>\n",
              "      <th>cases</th>\n",
              "      <th>deaths</th>\n",
              "      <th>countriesAndTerritories</th>\n",
              "      <th>geoId</th>\n",
              "      <th>countryterritoryCode</th>\n",
              "      <th>popData2018</th>\n",
              "      <th>continentExp</th>\n",
              "    </tr>\n",
              "  </thead>\n",
              "  <tbody>\n",
              "    <tr>\n",
              "      <th>2942</th>\n",
              "      <td>10/06/2020</td>\n",
              "      <td>10</td>\n",
              "      <td>6</td>\n",
              "      <td>2020</td>\n",
              "      <td>32091</td>\n",
              "      <td>1272</td>\n",
              "      <td>Brazil</td>\n",
              "      <td>BR</td>\n",
              "      <td>BRA</td>\n",
              "      <td>209469333.0</td>\n",
              "      <td>America</td>\n",
              "    </tr>\n",
              "    <tr>\n",
              "      <th>2943</th>\n",
              "      <td>09/06/2020</td>\n",
              "      <td>9</td>\n",
              "      <td>6</td>\n",
              "      <td>2020</td>\n",
              "      <td>15654</td>\n",
              "      <td>679</td>\n",
              "      <td>Brazil</td>\n",
              "      <td>BR</td>\n",
              "      <td>BRA</td>\n",
              "      <td>209469333.0</td>\n",
              "      <td>America</td>\n",
              "    </tr>\n",
              "    <tr>\n",
              "      <th>2944</th>\n",
              "      <td>08/06/2020</td>\n",
              "      <td>8</td>\n",
              "      <td>6</td>\n",
              "      <td>2020</td>\n",
              "      <td>18921</td>\n",
              "      <td>525</td>\n",
              "      <td>Brazil</td>\n",
              "      <td>BR</td>\n",
              "      <td>BRA</td>\n",
              "      <td>209469333.0</td>\n",
              "      <td>America</td>\n",
              "    </tr>\n",
              "    <tr>\n",
              "      <th>2945</th>\n",
              "      <td>07/06/2020</td>\n",
              "      <td>7</td>\n",
              "      <td>6</td>\n",
              "      <td>2020</td>\n",
              "      <td>27075</td>\n",
              "      <td>904</td>\n",
              "      <td>Brazil</td>\n",
              "      <td>BR</td>\n",
              "      <td>BRA</td>\n",
              "      <td>209469333.0</td>\n",
              "      <td>America</td>\n",
              "    </tr>\n",
              "    <tr>\n",
              "      <th>2946</th>\n",
              "      <td>06/06/2020</td>\n",
              "      <td>6</td>\n",
              "      <td>6</td>\n",
              "      <td>2020</td>\n",
              "      <td>30830</td>\n",
              "      <td>1005</td>\n",
              "      <td>Brazil</td>\n",
              "      <td>BR</td>\n",
              "      <td>BRA</td>\n",
              "      <td>209469333.0</td>\n",
              "      <td>America</td>\n",
              "    </tr>\n",
              "  </tbody>\n",
              "</table>\n",
              "</div>"
            ],
            "text/plain": [
              "         dateRep  day  month  ...  countryterritoryCode  popData2018  continentExp\n",
              "2942  10/06/2020   10      6  ...                   BRA  209469333.0       America\n",
              "2943  09/06/2020    9      6  ...                   BRA  209469333.0       America\n",
              "2944  08/06/2020    8      6  ...                   BRA  209469333.0       America\n",
              "2945  07/06/2020    7      6  ...                   BRA  209469333.0       America\n",
              "2946  06/06/2020    6      6  ...                   BRA  209469333.0       America\n",
              "\n",
              "[5 rows x 11 columns]"
            ]
          },
          "metadata": {
            "tags": []
          },
          "execution_count": 5
        }
      ]
    },
    {
      "cell_type": "markdown",
      "metadata": {
        "id": "ClrjgNxVUzbD",
        "colab_type": "text"
      },
      "source": [
        "## Data com maior numero de mortes e casos\n",
        "## média de mortes e casos diário\n",
        "## taxa média de mortalidade diária\n"
      ]
    },
    {
      "cell_type": "code",
      "metadata": {
        "id": "_854wbcdUKpT",
        "colab_type": "code",
        "colab": {}
      },
      "source": [
        "mundo = df"
      ],
      "execution_count": 6,
      "outputs": []
    },
    {
      "cell_type": "code",
      "metadata": {
        "id": "-hjPk66zVEAo",
        "colab_type": "code",
        "colab": {
          "base_uri": "https://localhost:8080/",
          "height": 34
        },
        "outputId": "fb0fd0fb-5d7b-4a12-9ea5-f1744b69a309"
      },
      "source": [
        "mundo['cases'].max()"
      ],
      "execution_count": 7,
      "outputs": [
        {
          "output_type": "execute_result",
          "data": {
            "text/plain": [
              "48529"
            ]
          },
          "metadata": {
            "tags": []
          },
          "execution_count": 7
        }
      ]
    },
    {
      "cell_type": "code",
      "metadata": {
        "id": "9IcqI_oKVHr_",
        "colab_type": "code",
        "colab": {
          "base_uri": "https://localhost:8080/",
          "height": 77
        },
        "outputId": "67b74e43-ea94-467c-92a1-2e02f04d2173"
      },
      "source": [
        "mundo[mundo['cases']==mundo['cases'].max()]"
      ],
      "execution_count": 8,
      "outputs": [
        {
          "output_type": "execute_result",
          "data": {
            "text/html": [
              "<div>\n",
              "<style scoped>\n",
              "    .dataframe tbody tr th:only-of-type {\n",
              "        vertical-align: middle;\n",
              "    }\n",
              "\n",
              "    .dataframe tbody tr th {\n",
              "        vertical-align: top;\n",
              "    }\n",
              "\n",
              "    .dataframe thead th {\n",
              "        text-align: right;\n",
              "    }\n",
              "</style>\n",
              "<table border=\"1\" class=\"dataframe\">\n",
              "  <thead>\n",
              "    <tr style=\"text-align: right;\">\n",
              "      <th></th>\n",
              "      <th>dateRep</th>\n",
              "      <th>day</th>\n",
              "      <th>month</th>\n",
              "      <th>year</th>\n",
              "      <th>cases</th>\n",
              "      <th>deaths</th>\n",
              "      <th>countriesAndTerritories</th>\n",
              "      <th>geoId</th>\n",
              "      <th>countryterritoryCode</th>\n",
              "      <th>popData2018</th>\n",
              "      <th>continentExp</th>\n",
              "    </tr>\n",
              "  </thead>\n",
              "  <tbody>\n",
              "    <tr>\n",
              "      <th>21700</th>\n",
              "      <td>26/04/2020</td>\n",
              "      <td>26</td>\n",
              "      <td>4</td>\n",
              "      <td>2020</td>\n",
              "      <td>48529</td>\n",
              "      <td>2172</td>\n",
              "      <td>United_States_of_America</td>\n",
              "      <td>US</td>\n",
              "      <td>USA</td>\n",
              "      <td>327167434.0</td>\n",
              "      <td>America</td>\n",
              "    </tr>\n",
              "  </tbody>\n",
              "</table>\n",
              "</div>"
            ],
            "text/plain": [
              "          dateRep  day  month  ...  countryterritoryCode  popData2018  continentExp\n",
              "21700  26/04/2020   26      4  ...                   USA  327167434.0       America\n",
              "\n",
              "[1 rows x 11 columns]"
            ]
          },
          "metadata": {
            "tags": []
          },
          "execution_count": 8
        }
      ]
    },
    {
      "cell_type": "code",
      "metadata": {
        "id": "4OlzMkW4VVP_",
        "colab_type": "code",
        "colab": {
          "base_uri": "https://localhost:8080/",
          "height": 77
        },
        "outputId": "956cd2c1-d91a-4236-88c8-3f80614e42c8"
      },
      "source": [
        "mundo[mundo['deaths']==mundo['deaths'].max()]"
      ],
      "execution_count": 9,
      "outputs": [
        {
          "output_type": "execute_result",
          "data": {
            "text/html": [
              "<div>\n",
              "<style scoped>\n",
              "    .dataframe tbody tr th:only-of-type {\n",
              "        vertical-align: middle;\n",
              "    }\n",
              "\n",
              "    .dataframe tbody tr th {\n",
              "        vertical-align: top;\n",
              "    }\n",
              "\n",
              "    .dataframe thead th {\n",
              "        text-align: right;\n",
              "    }\n",
              "</style>\n",
              "<table border=\"1\" class=\"dataframe\">\n",
              "  <thead>\n",
              "    <tr style=\"text-align: right;\">\n",
              "      <th></th>\n",
              "      <th>dateRep</th>\n",
              "      <th>day</th>\n",
              "      <th>month</th>\n",
              "      <th>year</th>\n",
              "      <th>cases</th>\n",
              "      <th>deaths</th>\n",
              "      <th>countriesAndTerritories</th>\n",
              "      <th>geoId</th>\n",
              "      <th>countryterritoryCode</th>\n",
              "      <th>popData2018</th>\n",
              "      <th>continentExp</th>\n",
              "    </tr>\n",
              "  </thead>\n",
              "  <tbody>\n",
              "    <tr>\n",
              "      <th>21710</th>\n",
              "      <td>16/04/2020</td>\n",
              "      <td>16</td>\n",
              "      <td>4</td>\n",
              "      <td>2020</td>\n",
              "      <td>30148</td>\n",
              "      <td>4928</td>\n",
              "      <td>United_States_of_America</td>\n",
              "      <td>US</td>\n",
              "      <td>USA</td>\n",
              "      <td>327167434.0</td>\n",
              "      <td>America</td>\n",
              "    </tr>\n",
              "  </tbody>\n",
              "</table>\n",
              "</div>"
            ],
            "text/plain": [
              "          dateRep  day  month  ...  countryterritoryCode  popData2018  continentExp\n",
              "21710  16/04/2020   16      4  ...                   USA  327167434.0       America\n",
              "\n",
              "[1 rows x 11 columns]"
            ]
          },
          "metadata": {
            "tags": []
          },
          "execution_count": 9
        }
      ]
    },
    {
      "cell_type": "markdown",
      "metadata": {
        "id": "HROPVkw6VjFz",
        "colab_type": "text"
      },
      "source": [
        "#### média de mortes e casos diários\n",
        "\n"
      ]
    },
    {
      "cell_type": "code",
      "metadata": {
        "id": "EP65KWGhVdvJ",
        "colab_type": "code",
        "colab": {
          "base_uri": "https://localhost:8080/",
          "height": 0
        },
        "outputId": "8f15cf4f-9336-4fe2-c159-3b10f8d7ac63"
      },
      "source": [
        "mundo['cases'].mean()"
      ],
      "execution_count": 10,
      "outputs": [
        {
          "output_type": "execute_result",
          "data": {
            "text/plain": [
              "319.1599681303116"
            ]
          },
          "metadata": {
            "tags": []
          },
          "execution_count": 10
        }
      ]
    },
    {
      "cell_type": "code",
      "metadata": {
        "id": "ew8lM6SsVy2r",
        "colab_type": "code",
        "colab": {
          "base_uri": "https://localhost:8080/",
          "height": 0
        },
        "outputId": "9db94787-7f76-40eb-a7b3-40b8ddc634dc"
      },
      "source": [
        "mundo['deaths'].mean()"
      ],
      "execution_count": 11,
      "outputs": [
        {
          "output_type": "execute_result",
          "data": {
            "text/plain": [
              "18.20091182719547"
            ]
          },
          "metadata": {
            "tags": []
          },
          "execution_count": 11
        }
      ]
    },
    {
      "cell_type": "code",
      "metadata": {
        "id": "ZNTGZdN7V2Xx",
        "colab_type": "code",
        "colab": {}
      },
      "source": [
        "mundoMin50casos = mundo[mundo['cases']>50]"
      ],
      "execution_count": 12,
      "outputs": []
    },
    {
      "cell_type": "code",
      "metadata": {
        "id": "uEK5hLDXWbc0",
        "colab_type": "code",
        "colab": {
          "base_uri": "https://localhost:8080/",
          "height": 0
        },
        "outputId": "2b568994-2aec-4939-9301-154161b4c19b"
      },
      "source": [
        "mundoMin50casos['cases'].mean()"
      ],
      "execution_count": 13,
      "outputs": [
        {
          "output_type": "execute_result",
          "data": {
            "text/plain": [
              "1231.821972318339"
            ]
          },
          "metadata": {
            "tags": []
          },
          "execution_count": 13
        }
      ]
    },
    {
      "cell_type": "markdown",
      "metadata": {
        "id": "Vd7vd57sXAhy",
        "colab_type": "text"
      },
      "source": [
        "#### taxa média de mortalidade diária\n"
      ]
    },
    {
      "cell_type": "code",
      "metadata": {
        "id": "aaMVVIdnWdrm",
        "colab_type": "code",
        "colab": {
          "base_uri": "https://localhost:8080/",
          "height": 0
        },
        "outputId": "54bf4383-447e-4a2b-beae-cf897ea27b9d"
      },
      "source": [
        "mundoMin50casos['taxa_mortalidade'] = mundoMin50casos['deaths'].div(mundoMin50casos['cases'])"
      ],
      "execution_count": 14,
      "outputs": [
        {
          "output_type": "stream",
          "text": [
            "/usr/local/lib/python3.6/dist-packages/ipykernel_launcher.py:1: SettingWithCopyWarning: \n",
            "A value is trying to be set on a copy of a slice from a DataFrame.\n",
            "Try using .loc[row_indexer,col_indexer] = value instead\n",
            "\n",
            "See the caveats in the documentation: https://pandas.pydata.org/pandas-docs/stable/user_guide/indexing.html#returning-a-view-versus-a-copy\n",
            "  \"\"\"Entry point for launching an IPython kernel.\n"
          ],
          "name": "stderr"
        }
      ]
    },
    {
      "cell_type": "code",
      "metadata": {
        "id": "6qkqRfDqYbjv",
        "colab_type": "code",
        "colab": {}
      },
      "source": [
        ""
      ],
      "execution_count": 14,
      "outputs": []
    },
    {
      "cell_type": "code",
      "metadata": {
        "id": "JyYJBz10XW_J",
        "colab_type": "code",
        "colab": {
          "base_uri": "https://localhost:8080/",
          "height": 0
        },
        "outputId": "41cd8445-5db1-4481-e773-84d92fc11897"
      },
      "source": [
        "mundoMin50casos.head()"
      ],
      "execution_count": 15,
      "outputs": [
        {
          "output_type": "execute_result",
          "data": {
            "text/html": [
              "<div>\n",
              "<style scoped>\n",
              "    .dataframe tbody tr th:only-of-type {\n",
              "        vertical-align: middle;\n",
              "    }\n",
              "\n",
              "    .dataframe tbody tr th {\n",
              "        vertical-align: top;\n",
              "    }\n",
              "\n",
              "    .dataframe thead th {\n",
              "        text-align: right;\n",
              "    }\n",
              "</style>\n",
              "<table border=\"1\" class=\"dataframe\">\n",
              "  <thead>\n",
              "    <tr style=\"text-align: right;\">\n",
              "      <th></th>\n",
              "      <th>dateRep</th>\n",
              "      <th>day</th>\n",
              "      <th>month</th>\n",
              "      <th>year</th>\n",
              "      <th>cases</th>\n",
              "      <th>deaths</th>\n",
              "      <th>countriesAndTerritories</th>\n",
              "      <th>geoId</th>\n",
              "      <th>countryterritoryCode</th>\n",
              "      <th>popData2018</th>\n",
              "      <th>continentExp</th>\n",
              "      <th>taxa_mortalidade</th>\n",
              "    </tr>\n",
              "  </thead>\n",
              "  <tbody>\n",
              "    <tr>\n",
              "      <th>0</th>\n",
              "      <td>10/06/2020</td>\n",
              "      <td>10</td>\n",
              "      <td>6</td>\n",
              "      <td>2020</td>\n",
              "      <td>542</td>\n",
              "      <td>15</td>\n",
              "      <td>Afghanistan</td>\n",
              "      <td>AF</td>\n",
              "      <td>AFG</td>\n",
              "      <td>37172386.0</td>\n",
              "      <td>Asia</td>\n",
              "      <td>0.027675</td>\n",
              "    </tr>\n",
              "    <tr>\n",
              "      <th>1</th>\n",
              "      <td>09/06/2020</td>\n",
              "      <td>9</td>\n",
              "      <td>6</td>\n",
              "      <td>2020</td>\n",
              "      <td>575</td>\n",
              "      <td>12</td>\n",
              "      <td>Afghanistan</td>\n",
              "      <td>AF</td>\n",
              "      <td>AFG</td>\n",
              "      <td>37172386.0</td>\n",
              "      <td>Asia</td>\n",
              "      <td>0.020870</td>\n",
              "    </tr>\n",
              "    <tr>\n",
              "      <th>2</th>\n",
              "      <td>08/06/2020</td>\n",
              "      <td>8</td>\n",
              "      <td>6</td>\n",
              "      <td>2020</td>\n",
              "      <td>791</td>\n",
              "      <td>30</td>\n",
              "      <td>Afghanistan</td>\n",
              "      <td>AF</td>\n",
              "      <td>AFG</td>\n",
              "      <td>37172386.0</td>\n",
              "      <td>Asia</td>\n",
              "      <td>0.037927</td>\n",
              "    </tr>\n",
              "    <tr>\n",
              "      <th>3</th>\n",
              "      <td>07/06/2020</td>\n",
              "      <td>7</td>\n",
              "      <td>6</td>\n",
              "      <td>2020</td>\n",
              "      <td>582</td>\n",
              "      <td>18</td>\n",
              "      <td>Afghanistan</td>\n",
              "      <td>AF</td>\n",
              "      <td>AFG</td>\n",
              "      <td>37172386.0</td>\n",
              "      <td>Asia</td>\n",
              "      <td>0.030928</td>\n",
              "    </tr>\n",
              "    <tr>\n",
              "      <th>4</th>\n",
              "      <td>06/06/2020</td>\n",
              "      <td>6</td>\n",
              "      <td>6</td>\n",
              "      <td>2020</td>\n",
              "      <td>915</td>\n",
              "      <td>9</td>\n",
              "      <td>Afghanistan</td>\n",
              "      <td>AF</td>\n",
              "      <td>AFG</td>\n",
              "      <td>37172386.0</td>\n",
              "      <td>Asia</td>\n",
              "      <td>0.009836</td>\n",
              "    </tr>\n",
              "  </tbody>\n",
              "</table>\n",
              "</div>"
            ],
            "text/plain": [
              "      dateRep  day  month  ...  popData2018  continentExp  taxa_mortalidade\n",
              "0  10/06/2020   10      6  ...   37172386.0          Asia          0.027675\n",
              "1  09/06/2020    9      6  ...   37172386.0          Asia          0.020870\n",
              "2  08/06/2020    8      6  ...   37172386.0          Asia          0.037927\n",
              "3  07/06/2020    7      6  ...   37172386.0          Asia          0.030928\n",
              "4  06/06/2020    6      6  ...   37172386.0          Asia          0.009836\n",
              "\n",
              "[5 rows x 12 columns]"
            ]
          },
          "metadata": {
            "tags": []
          },
          "execution_count": 15
        }
      ]
    },
    {
      "cell_type": "code",
      "metadata": {
        "id": "o1IQjQr6XgsM",
        "colab_type": "code",
        "colab": {
          "base_uri": "https://localhost:8080/",
          "height": 0
        },
        "outputId": "056f1611-e5d8-44af-abde-f2919e51c19a"
      },
      "source": [
        "mundoMin50casos.drop(columns=['taxa_mortalidade'],inplace=True)"
      ],
      "execution_count": 16,
      "outputs": [
        {
          "output_type": "stream",
          "text": [
            "/usr/local/lib/python3.6/dist-packages/pandas/core/frame.py:3997: SettingWithCopyWarning: \n",
            "A value is trying to be set on a copy of a slice from a DataFrame\n",
            "\n",
            "See the caveats in the documentation: https://pandas.pydata.org/pandas-docs/stable/user_guide/indexing.html#returning-a-view-versus-a-copy\n",
            "  errors=errors,\n"
          ],
          "name": "stderr"
        }
      ]
    },
    {
      "cell_type": "code",
      "metadata": {
        "id": "RC3OQtjWXzU_",
        "colab_type": "code",
        "colab": {
          "base_uri": "https://localhost:8080/",
          "height": 0
        },
        "outputId": "b39c55ae-5aa2-4e97-c2c0-4425236ffcae"
      },
      "source": [
        "mundoMin50casos.head()"
      ],
      "execution_count": 17,
      "outputs": [
        {
          "output_type": "execute_result",
          "data": {
            "text/html": [
              "<div>\n",
              "<style scoped>\n",
              "    .dataframe tbody tr th:only-of-type {\n",
              "        vertical-align: middle;\n",
              "    }\n",
              "\n",
              "    .dataframe tbody tr th {\n",
              "        vertical-align: top;\n",
              "    }\n",
              "\n",
              "    .dataframe thead th {\n",
              "        text-align: right;\n",
              "    }\n",
              "</style>\n",
              "<table border=\"1\" class=\"dataframe\">\n",
              "  <thead>\n",
              "    <tr style=\"text-align: right;\">\n",
              "      <th></th>\n",
              "      <th>dateRep</th>\n",
              "      <th>day</th>\n",
              "      <th>month</th>\n",
              "      <th>year</th>\n",
              "      <th>cases</th>\n",
              "      <th>deaths</th>\n",
              "      <th>countriesAndTerritories</th>\n",
              "      <th>geoId</th>\n",
              "      <th>countryterritoryCode</th>\n",
              "      <th>popData2018</th>\n",
              "      <th>continentExp</th>\n",
              "    </tr>\n",
              "  </thead>\n",
              "  <tbody>\n",
              "    <tr>\n",
              "      <th>0</th>\n",
              "      <td>10/06/2020</td>\n",
              "      <td>10</td>\n",
              "      <td>6</td>\n",
              "      <td>2020</td>\n",
              "      <td>542</td>\n",
              "      <td>15</td>\n",
              "      <td>Afghanistan</td>\n",
              "      <td>AF</td>\n",
              "      <td>AFG</td>\n",
              "      <td>37172386.0</td>\n",
              "      <td>Asia</td>\n",
              "    </tr>\n",
              "    <tr>\n",
              "      <th>1</th>\n",
              "      <td>09/06/2020</td>\n",
              "      <td>9</td>\n",
              "      <td>6</td>\n",
              "      <td>2020</td>\n",
              "      <td>575</td>\n",
              "      <td>12</td>\n",
              "      <td>Afghanistan</td>\n",
              "      <td>AF</td>\n",
              "      <td>AFG</td>\n",
              "      <td>37172386.0</td>\n",
              "      <td>Asia</td>\n",
              "    </tr>\n",
              "    <tr>\n",
              "      <th>2</th>\n",
              "      <td>08/06/2020</td>\n",
              "      <td>8</td>\n",
              "      <td>6</td>\n",
              "      <td>2020</td>\n",
              "      <td>791</td>\n",
              "      <td>30</td>\n",
              "      <td>Afghanistan</td>\n",
              "      <td>AF</td>\n",
              "      <td>AFG</td>\n",
              "      <td>37172386.0</td>\n",
              "      <td>Asia</td>\n",
              "    </tr>\n",
              "    <tr>\n",
              "      <th>3</th>\n",
              "      <td>07/06/2020</td>\n",
              "      <td>7</td>\n",
              "      <td>6</td>\n",
              "      <td>2020</td>\n",
              "      <td>582</td>\n",
              "      <td>18</td>\n",
              "      <td>Afghanistan</td>\n",
              "      <td>AF</td>\n",
              "      <td>AFG</td>\n",
              "      <td>37172386.0</td>\n",
              "      <td>Asia</td>\n",
              "    </tr>\n",
              "    <tr>\n",
              "      <th>4</th>\n",
              "      <td>06/06/2020</td>\n",
              "      <td>6</td>\n",
              "      <td>6</td>\n",
              "      <td>2020</td>\n",
              "      <td>915</td>\n",
              "      <td>9</td>\n",
              "      <td>Afghanistan</td>\n",
              "      <td>AF</td>\n",
              "      <td>AFG</td>\n",
              "      <td>37172386.0</td>\n",
              "      <td>Asia</td>\n",
              "    </tr>\n",
              "  </tbody>\n",
              "</table>\n",
              "</div>"
            ],
            "text/plain": [
              "      dateRep  day  month  ...  countryterritoryCode  popData2018  continentExp\n",
              "0  10/06/2020   10      6  ...                   AFG   37172386.0          Asia\n",
              "1  09/06/2020    9      6  ...                   AFG   37172386.0          Asia\n",
              "2  08/06/2020    8      6  ...                   AFG   37172386.0          Asia\n",
              "3  07/06/2020    7      6  ...                   AFG   37172386.0          Asia\n",
              "4  06/06/2020    6      6  ...                   AFG   37172386.0          Asia\n",
              "\n",
              "[5 rows x 11 columns]"
            ]
          },
          "metadata": {
            "tags": []
          },
          "execution_count": 17
        }
      ]
    },
    {
      "cell_type": "code",
      "metadata": {
        "id": "TFCTFJcpYMGu",
        "colab_type": "code",
        "colab": {}
      },
      "source": [
        "brasilMin50casos = brasil[brasil['cases']>50]"
      ],
      "execution_count": 18,
      "outputs": []
    },
    {
      "cell_type": "code",
      "metadata": {
        "id": "Ie77cbeGYfXS",
        "colab_type": "code",
        "colab": {
          "base_uri": "https://localhost:8080/",
          "height": 0
        },
        "outputId": "2f1e6273-a650-4874-fd6d-9988cbd11127"
      },
      "source": [
        "brasilMin50casos.head()"
      ],
      "execution_count": 19,
      "outputs": [
        {
          "output_type": "execute_result",
          "data": {
            "text/html": [
              "<div>\n",
              "<style scoped>\n",
              "    .dataframe tbody tr th:only-of-type {\n",
              "        vertical-align: middle;\n",
              "    }\n",
              "\n",
              "    .dataframe tbody tr th {\n",
              "        vertical-align: top;\n",
              "    }\n",
              "\n",
              "    .dataframe thead th {\n",
              "        text-align: right;\n",
              "    }\n",
              "</style>\n",
              "<table border=\"1\" class=\"dataframe\">\n",
              "  <thead>\n",
              "    <tr style=\"text-align: right;\">\n",
              "      <th></th>\n",
              "      <th>dateRep</th>\n",
              "      <th>day</th>\n",
              "      <th>month</th>\n",
              "      <th>year</th>\n",
              "      <th>cases</th>\n",
              "      <th>deaths</th>\n",
              "      <th>countriesAndTerritories</th>\n",
              "      <th>geoId</th>\n",
              "      <th>countryterritoryCode</th>\n",
              "      <th>popData2018</th>\n",
              "      <th>continentExp</th>\n",
              "    </tr>\n",
              "  </thead>\n",
              "  <tbody>\n",
              "    <tr>\n",
              "      <th>2942</th>\n",
              "      <td>10/06/2020</td>\n",
              "      <td>10</td>\n",
              "      <td>6</td>\n",
              "      <td>2020</td>\n",
              "      <td>32091</td>\n",
              "      <td>1272</td>\n",
              "      <td>Brazil</td>\n",
              "      <td>BR</td>\n",
              "      <td>BRA</td>\n",
              "      <td>209469333.0</td>\n",
              "      <td>America</td>\n",
              "    </tr>\n",
              "    <tr>\n",
              "      <th>2943</th>\n",
              "      <td>09/06/2020</td>\n",
              "      <td>9</td>\n",
              "      <td>6</td>\n",
              "      <td>2020</td>\n",
              "      <td>15654</td>\n",
              "      <td>679</td>\n",
              "      <td>Brazil</td>\n",
              "      <td>BR</td>\n",
              "      <td>BRA</td>\n",
              "      <td>209469333.0</td>\n",
              "      <td>America</td>\n",
              "    </tr>\n",
              "    <tr>\n",
              "      <th>2944</th>\n",
              "      <td>08/06/2020</td>\n",
              "      <td>8</td>\n",
              "      <td>6</td>\n",
              "      <td>2020</td>\n",
              "      <td>18921</td>\n",
              "      <td>525</td>\n",
              "      <td>Brazil</td>\n",
              "      <td>BR</td>\n",
              "      <td>BRA</td>\n",
              "      <td>209469333.0</td>\n",
              "      <td>America</td>\n",
              "    </tr>\n",
              "    <tr>\n",
              "      <th>2945</th>\n",
              "      <td>07/06/2020</td>\n",
              "      <td>7</td>\n",
              "      <td>6</td>\n",
              "      <td>2020</td>\n",
              "      <td>27075</td>\n",
              "      <td>904</td>\n",
              "      <td>Brazil</td>\n",
              "      <td>BR</td>\n",
              "      <td>BRA</td>\n",
              "      <td>209469333.0</td>\n",
              "      <td>America</td>\n",
              "    </tr>\n",
              "    <tr>\n",
              "      <th>2946</th>\n",
              "      <td>06/06/2020</td>\n",
              "      <td>6</td>\n",
              "      <td>6</td>\n",
              "      <td>2020</td>\n",
              "      <td>30830</td>\n",
              "      <td>1005</td>\n",
              "      <td>Brazil</td>\n",
              "      <td>BR</td>\n",
              "      <td>BRA</td>\n",
              "      <td>209469333.0</td>\n",
              "      <td>America</td>\n",
              "    </tr>\n",
              "  </tbody>\n",
              "</table>\n",
              "</div>"
            ],
            "text/plain": [
              "         dateRep  day  month  ...  countryterritoryCode  popData2018  continentExp\n",
              "2942  10/06/2020   10      6  ...                   BRA  209469333.0       America\n",
              "2943  09/06/2020    9      6  ...                   BRA  209469333.0       America\n",
              "2944  08/06/2020    8      6  ...                   BRA  209469333.0       America\n",
              "2945  07/06/2020    7      6  ...                   BRA  209469333.0       America\n",
              "2946  06/06/2020    6      6  ...                   BRA  209469333.0       America\n",
              "\n",
              "[5 rows x 11 columns]"
            ]
          },
          "metadata": {
            "tags": []
          },
          "execution_count": 19
        }
      ]
    },
    {
      "cell_type": "markdown",
      "metadata": {
        "id": "GqEmYvjeYirr",
        "colab_type": "text"
      },
      "source": [
        "#### Comparando países"
      ]
    },
    {
      "cell_type": "code",
      "metadata": {
        "id": "ekwZPWbWYgvX",
        "colab_type": "code",
        "colab": {
          "base_uri": "https://localhost:8080/",
          "height": 0
        },
        "outputId": "eb5fe338-d7b4-485b-f702-5a273d25bcd9"
      },
      "source": [
        "brasilMin50casos.describe()"
      ],
      "execution_count": 20,
      "outputs": [
        {
          "output_type": "execute_result",
          "data": {
            "text/html": [
              "<div>\n",
              "<style scoped>\n",
              "    .dataframe tbody tr th:only-of-type {\n",
              "        vertical-align: middle;\n",
              "    }\n",
              "\n",
              "    .dataframe tbody tr th {\n",
              "        vertical-align: top;\n",
              "    }\n",
              "\n",
              "    .dataframe thead th {\n",
              "        text-align: right;\n",
              "    }\n",
              "</style>\n",
              "<table border=\"1\" class=\"dataframe\">\n",
              "  <thead>\n",
              "    <tr style=\"text-align: right;\">\n",
              "      <th></th>\n",
              "      <th>day</th>\n",
              "      <th>month</th>\n",
              "      <th>year</th>\n",
              "      <th>cases</th>\n",
              "      <th>deaths</th>\n",
              "      <th>popData2018</th>\n",
              "    </tr>\n",
              "  </thead>\n",
              "  <tbody>\n",
              "    <tr>\n",
              "      <th>count</th>\n",
              "      <td>86.000000</td>\n",
              "      <td>86.000000</td>\n",
              "      <td>86.0</td>\n",
              "      <td>86.000000</td>\n",
              "      <td>86.000000</td>\n",
              "      <td>86.0</td>\n",
              "    </tr>\n",
              "    <tr>\n",
              "      <th>mean</th>\n",
              "      <td>15.988372</td>\n",
              "      <td>4.418605</td>\n",
              "      <td>2020.0</td>\n",
              "      <td>8597.069767</td>\n",
              "      <td>446.581395</td>\n",
              "      <td>209469333.0</td>\n",
              "    </tr>\n",
              "    <tr>\n",
              "      <th>std</th>\n",
              "      <td>9.177330</td>\n",
              "      <td>0.913495</td>\n",
              "      <td>0.0</td>\n",
              "      <td>9337.527495</td>\n",
              "      <td>411.656438</td>\n",
              "      <td>0.0</td>\n",
              "    </tr>\n",
              "    <tr>\n",
              "      <th>min</th>\n",
              "      <td>1.000000</td>\n",
              "      <td>3.000000</td>\n",
              "      <td>2020.0</td>\n",
              "      <td>57.000000</td>\n",
              "      <td>0.000000</td>\n",
              "      <td>209469333.0</td>\n",
              "    </tr>\n",
              "    <tr>\n",
              "      <th>25%</th>\n",
              "      <td>8.000000</td>\n",
              "      <td>4.000000</td>\n",
              "      <td>2020.0</td>\n",
              "      <td>1165.000000</td>\n",
              "      <td>69.250000</td>\n",
              "      <td>209469333.0</td>\n",
              "    </tr>\n",
              "    <tr>\n",
              "      <th>50%</th>\n",
              "      <td>16.500000</td>\n",
              "      <td>4.000000</td>\n",
              "      <td>2020.0</td>\n",
              "      <td>4791.500000</td>\n",
              "      <td>351.500000</td>\n",
              "      <td>209469333.0</td>\n",
              "    </tr>\n",
              "    <tr>\n",
              "      <th>75%</th>\n",
              "      <td>24.000000</td>\n",
              "      <td>5.000000</td>\n",
              "      <td>2020.0</td>\n",
              "      <td>14675.250000</td>\n",
              "      <td>750.500000</td>\n",
              "      <td>209469333.0</td>\n",
              "    </tr>\n",
              "    <tr>\n",
              "      <th>max</th>\n",
              "      <td>31.000000</td>\n",
              "      <td>6.000000</td>\n",
              "      <td>2020.0</td>\n",
              "      <td>33274.000000</td>\n",
              "      <td>1473.000000</td>\n",
              "      <td>209469333.0</td>\n",
              "    </tr>\n",
              "  </tbody>\n",
              "</table>\n",
              "</div>"
            ],
            "text/plain": [
              "             day      month    year         cases       deaths  popData2018\n",
              "count  86.000000  86.000000    86.0     86.000000    86.000000         86.0\n",
              "mean   15.988372   4.418605  2020.0   8597.069767   446.581395  209469333.0\n",
              "std     9.177330   0.913495     0.0   9337.527495   411.656438          0.0\n",
              "min     1.000000   3.000000  2020.0     57.000000     0.000000  209469333.0\n",
              "25%     8.000000   4.000000  2020.0   1165.000000    69.250000  209469333.0\n",
              "50%    16.500000   4.000000  2020.0   4791.500000   351.500000  209469333.0\n",
              "75%    24.000000   5.000000  2020.0  14675.250000   750.500000  209469333.0\n",
              "max    31.000000   6.000000  2020.0  33274.000000  1473.000000  209469333.0"
            ]
          },
          "metadata": {
            "tags": []
          },
          "execution_count": 20
        }
      ]
    },
    {
      "cell_type": "code",
      "metadata": {
        "id": "DwC1CsjBYn-Z",
        "colab_type": "code",
        "colab": {
          "base_uri": "https://localhost:8080/",
          "height": 0
        },
        "outputId": "6a69bd15-422b-4379-b0dc-dc00dbdce987"
      },
      "source": [
        "mundoMin50casos.describe()"
      ],
      "execution_count": 21,
      "outputs": [
        {
          "output_type": "execute_result",
          "data": {
            "text/html": [
              "<div>\n",
              "<style scoped>\n",
              "    .dataframe tbody tr th:only-of-type {\n",
              "        vertical-align: middle;\n",
              "    }\n",
              "\n",
              "    .dataframe tbody tr th {\n",
              "        vertical-align: top;\n",
              "    }\n",
              "\n",
              "    .dataframe thead th {\n",
              "        text-align: right;\n",
              "    }\n",
              "</style>\n",
              "<table border=\"1\" class=\"dataframe\">\n",
              "  <thead>\n",
              "    <tr style=\"text-align: right;\">\n",
              "      <th></th>\n",
              "      <th>day</th>\n",
              "      <th>month</th>\n",
              "      <th>year</th>\n",
              "      <th>cases</th>\n",
              "      <th>deaths</th>\n",
              "      <th>popData2018</th>\n",
              "    </tr>\n",
              "  </thead>\n",
              "  <tbody>\n",
              "    <tr>\n",
              "      <th>count</th>\n",
              "      <td>5780.000000</td>\n",
              "      <td>5780.000000</td>\n",
              "      <td>5780.0</td>\n",
              "      <td>5780.000000</td>\n",
              "      <td>5780.000000</td>\n",
              "      <td>5.780000e+03</td>\n",
              "    </tr>\n",
              "    <tr>\n",
              "      <th>mean</th>\n",
              "      <td>15.537024</td>\n",
              "      <td>4.472837</td>\n",
              "      <td>2020.0</td>\n",
              "      <td>1231.821972</td>\n",
              "      <td>70.543426</td>\n",
              "      <td>8.534690e+07</td>\n",
              "    </tr>\n",
              "    <tr>\n",
              "      <th>std</th>\n",
              "      <td>9.181950</td>\n",
              "      <td>0.940958</td>\n",
              "      <td>0.0</td>\n",
              "      <td>3504.887843</td>\n",
              "      <td>232.892618</td>\n",
              "      <td>2.234980e+08</td>\n",
              "    </tr>\n",
              "    <tr>\n",
              "      <th>min</th>\n",
              "      <td>1.000000</td>\n",
              "      <td>1.000000</td>\n",
              "      <td>2020.0</td>\n",
              "      <td>51.000000</td>\n",
              "      <td>-86.000000</td>\n",
              "      <td>3.000000e+03</td>\n",
              "    </tr>\n",
              "    <tr>\n",
              "      <th>25%</th>\n",
              "      <td>7.000000</td>\n",
              "      <td>4.000000</td>\n",
              "      <td>2020.0</td>\n",
              "      <td>111.000000</td>\n",
              "      <td>2.000000</td>\n",
              "      <td>9.485386e+06</td>\n",
              "    </tr>\n",
              "    <tr>\n",
              "      <th>50%</th>\n",
              "      <td>15.000000</td>\n",
              "      <td>5.000000</td>\n",
              "      <td>2020.0</td>\n",
              "      <td>267.000000</td>\n",
              "      <td>7.000000</td>\n",
              "      <td>2.573930e+07</td>\n",
              "    </tr>\n",
              "    <tr>\n",
              "      <th>75%</th>\n",
              "      <td>24.000000</td>\n",
              "      <td>5.000000</td>\n",
              "      <td>2020.0</td>\n",
              "      <td>804.250000</td>\n",
              "      <td>30.000000</td>\n",
              "      <td>6.648899e+07</td>\n",
              "    </tr>\n",
              "    <tr>\n",
              "      <th>max</th>\n",
              "      <td>31.000000</td>\n",
              "      <td>6.000000</td>\n",
              "      <td>2020.0</td>\n",
              "      <td>48529.000000</td>\n",
              "      <td>4928.000000</td>\n",
              "      <td>1.392730e+09</td>\n",
              "    </tr>\n",
              "  </tbody>\n",
              "</table>\n",
              "</div>"
            ],
            "text/plain": [
              "               day        month  ...       deaths   popData2018\n",
              "count  5780.000000  5780.000000  ...  5780.000000  5.780000e+03\n",
              "mean     15.537024     4.472837  ...    70.543426  8.534690e+07\n",
              "std       9.181950     0.940958  ...   232.892618  2.234980e+08\n",
              "min       1.000000     1.000000  ...   -86.000000  3.000000e+03\n",
              "25%       7.000000     4.000000  ...     2.000000  9.485386e+06\n",
              "50%      15.000000     5.000000  ...     7.000000  2.573930e+07\n",
              "75%      24.000000     5.000000  ...    30.000000  6.648899e+07\n",
              "max      31.000000     6.000000  ...  4928.000000  1.392730e+09\n",
              "\n",
              "[8 rows x 6 columns]"
            ]
          },
          "metadata": {
            "tags": []
          },
          "execution_count": 21
        }
      ]
    },
    {
      "cell_type": "code",
      "metadata": {
        "id": "OWnOtFyoYyIB",
        "colab_type": "code",
        "colab": {
          "base_uri": "https://localhost:8080/",
          "height": 0
        },
        "outputId": "9ce4df4e-da12-488f-d210-f80b058d4b3e"
      },
      "source": [
        "#Lift\n",
        "brasilMin50casos.describe()/mundoMin50casos.describe()"
      ],
      "execution_count": 22,
      "outputs": [
        {
          "output_type": "execute_result",
          "data": {
            "text/html": [
              "<div>\n",
              "<style scoped>\n",
              "    .dataframe tbody tr th:only-of-type {\n",
              "        vertical-align: middle;\n",
              "    }\n",
              "\n",
              "    .dataframe tbody tr th {\n",
              "        vertical-align: top;\n",
              "    }\n",
              "\n",
              "    .dataframe thead th {\n",
              "        text-align: right;\n",
              "    }\n",
              "</style>\n",
              "<table border=\"1\" class=\"dataframe\">\n",
              "  <thead>\n",
              "    <tr style=\"text-align: right;\">\n",
              "      <th></th>\n",
              "      <th>day</th>\n",
              "      <th>month</th>\n",
              "      <th>year</th>\n",
              "      <th>cases</th>\n",
              "      <th>deaths</th>\n",
              "      <th>popData2018</th>\n",
              "    </tr>\n",
              "  </thead>\n",
              "  <tbody>\n",
              "    <tr>\n",
              "      <th>count</th>\n",
              "      <td>0.014879</td>\n",
              "      <td>0.014879</td>\n",
              "      <td>0.014879</td>\n",
              "      <td>0.014879</td>\n",
              "      <td>0.014879</td>\n",
              "      <td>0.014879</td>\n",
              "    </tr>\n",
              "    <tr>\n",
              "      <th>mean</th>\n",
              "      <td>1.029050</td>\n",
              "      <td>0.987875</td>\n",
              "      <td>1.000000</td>\n",
              "      <td>6.979150</td>\n",
              "      <td>6.330588</td>\n",
              "      <td>2.454328</td>\n",
              "    </tr>\n",
              "    <tr>\n",
              "      <th>std</th>\n",
              "      <td>0.999497</td>\n",
              "      <td>0.970814</td>\n",
              "      <td>NaN</td>\n",
              "      <td>2.664144</td>\n",
              "      <td>1.767580</td>\n",
              "      <td>0.000000</td>\n",
              "    </tr>\n",
              "    <tr>\n",
              "      <th>min</th>\n",
              "      <td>1.000000</td>\n",
              "      <td>3.000000</td>\n",
              "      <td>1.000000</td>\n",
              "      <td>1.117647</td>\n",
              "      <td>-0.000000</td>\n",
              "      <td>69823.111000</td>\n",
              "    </tr>\n",
              "    <tr>\n",
              "      <th>25%</th>\n",
              "      <td>1.142857</td>\n",
              "      <td>1.000000</td>\n",
              "      <td>1.000000</td>\n",
              "      <td>10.495495</td>\n",
              "      <td>34.625000</td>\n",
              "      <td>22.083375</td>\n",
              "    </tr>\n",
              "    <tr>\n",
              "      <th>50%</th>\n",
              "      <td>1.100000</td>\n",
              "      <td>0.800000</td>\n",
              "      <td>1.000000</td>\n",
              "      <td>17.945693</td>\n",
              "      <td>50.214286</td>\n",
              "      <td>8.138112</td>\n",
              "    </tr>\n",
              "    <tr>\n",
              "      <th>75%</th>\n",
              "      <td>1.000000</td>\n",
              "      <td>1.000000</td>\n",
              "      <td>1.000000</td>\n",
              "      <td>18.247125</td>\n",
              "      <td>25.016667</td>\n",
              "      <td>3.150436</td>\n",
              "    </tr>\n",
              "    <tr>\n",
              "      <th>max</th>\n",
              "      <td>1.000000</td>\n",
              "      <td>1.000000</td>\n",
              "      <td>1.000000</td>\n",
              "      <td>0.685652</td>\n",
              "      <td>0.298904</td>\n",
              "      <td>0.150402</td>\n",
              "    </tr>\n",
              "  </tbody>\n",
              "</table>\n",
              "</div>"
            ],
            "text/plain": [
              "            day     month      year      cases     deaths   popData2018\n",
              "count  0.014879  0.014879  0.014879   0.014879   0.014879      0.014879\n",
              "mean   1.029050  0.987875  1.000000   6.979150   6.330588      2.454328\n",
              "std    0.999497  0.970814       NaN   2.664144   1.767580      0.000000\n",
              "min    1.000000  3.000000  1.000000   1.117647  -0.000000  69823.111000\n",
              "25%    1.142857  1.000000  1.000000  10.495495  34.625000     22.083375\n",
              "50%    1.100000  0.800000  1.000000  17.945693  50.214286      8.138112\n",
              "75%    1.000000  1.000000  1.000000  18.247125  25.016667      3.150436\n",
              "max    1.000000  1.000000  1.000000   0.685652   0.298904      0.150402"
            ]
          },
          "metadata": {
            "tags": []
          },
          "execution_count": 22
        }
      ]
    },
    {
      "cell_type": "code",
      "metadata": {
        "id": "sXU_4WufY6ZY",
        "colab_type": "code",
        "colab": {}
      },
      "source": [
        "Numerodecasosmaximodiario = brasilMin50casos['cases'].max()"
      ],
      "execution_count": 23,
      "outputs": []
    },
    {
      "cell_type": "code",
      "metadata": {
        "id": "SBvCRiREZr5T",
        "colab_type": "code",
        "colab": {}
      },
      "source": [
        "mediaMortalidade = brasilMin50casos['deaths'].mean()/brasilMin50casos['cases'].mean()"
      ],
      "execution_count": 24,
      "outputs": []
    },
    {
      "cell_type": "code",
      "metadata": {
        "id": "nnOaCaq8Z3RV",
        "colab_type": "code",
        "colab": {
          "base_uri": "https://localhost:8080/",
          "height": 0
        },
        "outputId": "b3252bbd-3212-4482-97c4-a8f87cd11f39"
      },
      "source": [
        "mediaMortalidade"
      ],
      "execution_count": 25,
      "outputs": [
        {
          "output_type": "execute_result",
          "data": {
            "text/plain": [
              "0.05194576843380924"
            ]
          },
          "metadata": {
            "tags": []
          },
          "execution_count": 25
        }
      ]
    },
    {
      "cell_type": "code",
      "metadata": {
        "id": "jBLKrm9lZ7kb",
        "colab_type": "code",
        "colab": {
          "base_uri": "https://localhost:8080/",
          "height": 0
        },
        "outputId": "88c12104-0cdb-420a-90f8-7873cc77b341"
      },
      "source": [
        "print('O número máximo de casos diário em um único dia no Brasil foi: {:,} \\nA taxa de mortalidade do Brasil neste periodo foi de {:.2%}.'\\\n",
        "      .format(Numerodecasosmaximodiario,mediaMortalidade))"
      ],
      "execution_count": 26,
      "outputs": [
        {
          "output_type": "stream",
          "text": [
            "O número máximo de casos diário em um único dia no Brasil foi: 33,274 \n",
            "A taxa de mortalidade do Brasil neste periodo foi de 5.19%.\n"
          ],
          "name": "stdout"
        }
      ]
    },
    {
      "cell_type": "markdown",
      "metadata": {
        "id": "5-_sE4gwbHZL",
        "colab_type": "text"
      },
      "source": [
        "### Casos Diarios Ao Longo Do Tempo"
      ]
    },
    {
      "cell_type": "code",
      "metadata": {
        "id": "JGNf-vV6bLS_",
        "colab_type": "code",
        "colab": {}
      },
      "source": [
        "listaPaises = ['Brazil','France', 'Argentina','United_Kingdom','United_States_of_America','Italy']"
      ],
      "execution_count": 27,
      "outputs": []
    },
    {
      "cell_type": "code",
      "metadata": {
        "id": "dVwbZDKXbedF",
        "colab_type": "code",
        "colab": {}
      },
      "source": [
        "%matplotlib inline"
      ],
      "execution_count": 28,
      "outputs": []
    },
    {
      "cell_type": "code",
      "metadata": {
        "id": "l6jwFvzjbyjp",
        "colab_type": "code",
        "colab": {}
      },
      "source": [
        "#indices - data, colunas - paises, valor - casos\n",
        "mundoPlot = mundoMin50casos.pivot(index='dateRep',columns='countriesAndTerritories', values='cases')"
      ],
      "execution_count": 29,
      "outputs": []
    },
    {
      "cell_type": "code",
      "metadata": {
        "id": "6jADfDr6cd89",
        "colab_type": "code",
        "colab": {
          "base_uri": "https://localhost:8080/",
          "height": 276
        },
        "outputId": "060f92f4-6c30-4afb-9a5b-5f34dad8154e"
      },
      "source": [
        "mundoPlot.head()"
      ],
      "execution_count": 30,
      "outputs": [
        {
          "output_type": "execute_result",
          "data": {
            "text/html": [
              "<div>\n",
              "<style scoped>\n",
              "    .dataframe tbody tr th:only-of-type {\n",
              "        vertical-align: middle;\n",
              "    }\n",
              "\n",
              "    .dataframe tbody tr th {\n",
              "        vertical-align: top;\n",
              "    }\n",
              "\n",
              "    .dataframe thead th {\n",
              "        text-align: right;\n",
              "    }\n",
              "</style>\n",
              "<table border=\"1\" class=\"dataframe\">\n",
              "  <thead>\n",
              "    <tr style=\"text-align: right;\">\n",
              "      <th>countriesAndTerritories</th>\n",
              "      <th>Afghanistan</th>\n",
              "      <th>Algeria</th>\n",
              "      <th>Andorra</th>\n",
              "      <th>Argentina</th>\n",
              "      <th>Armenia</th>\n",
              "      <th>Australia</th>\n",
              "      <th>Austria</th>\n",
              "      <th>Azerbaijan</th>\n",
              "      <th>Bahrain</th>\n",
              "      <th>Bangladesh</th>\n",
              "      <th>Belarus</th>\n",
              "      <th>Belgium</th>\n",
              "      <th>Benin</th>\n",
              "      <th>Bolivia</th>\n",
              "      <th>Bosnia_and_Herzegovina</th>\n",
              "      <th>Brazil</th>\n",
              "      <th>Bulgaria</th>\n",
              "      <th>Cameroon</th>\n",
              "      <th>Canada</th>\n",
              "      <th>Cases_on_an_international_conveyance_Japan</th>\n",
              "      <th>Central_African_Republic</th>\n",
              "      <th>Chad</th>\n",
              "      <th>Chile</th>\n",
              "      <th>China</th>\n",
              "      <th>Colombia</th>\n",
              "      <th>Costa_Rica</th>\n",
              "      <th>Cote_dIvoire</th>\n",
              "      <th>Croatia</th>\n",
              "      <th>Cuba</th>\n",
              "      <th>Cyprus</th>\n",
              "      <th>Czechia</th>\n",
              "      <th>Democratic_Republic_of_the_Congo</th>\n",
              "      <th>Denmark</th>\n",
              "      <th>Djibouti</th>\n",
              "      <th>Dominican_Republic</th>\n",
              "      <th>Ecuador</th>\n",
              "      <th>Egypt</th>\n",
              "      <th>El_Salvador</th>\n",
              "      <th>Equatorial_Guinea</th>\n",
              "      <th>Estonia</th>\n",
              "      <th>...</th>\n",
              "      <th>Paraguay</th>\n",
              "      <th>Peru</th>\n",
              "      <th>Philippines</th>\n",
              "      <th>Poland</th>\n",
              "      <th>Portugal</th>\n",
              "      <th>Puerto_Rico</th>\n",
              "      <th>Qatar</th>\n",
              "      <th>Romania</th>\n",
              "      <th>Russia</th>\n",
              "      <th>Sao_Tome_and_Principe</th>\n",
              "      <th>Saudi_Arabia</th>\n",
              "      <th>Senegal</th>\n",
              "      <th>Serbia</th>\n",
              "      <th>Sierra_Leone</th>\n",
              "      <th>Singapore</th>\n",
              "      <th>Slovakia</th>\n",
              "      <th>Slovenia</th>\n",
              "      <th>Somalia</th>\n",
              "      <th>South_Africa</th>\n",
              "      <th>South_Korea</th>\n",
              "      <th>South_Sudan</th>\n",
              "      <th>Spain</th>\n",
              "      <th>Sri_Lanka</th>\n",
              "      <th>Sudan</th>\n",
              "      <th>Sweden</th>\n",
              "      <th>Switzerland</th>\n",
              "      <th>Tajikistan</th>\n",
              "      <th>Thailand</th>\n",
              "      <th>Tunisia</th>\n",
              "      <th>Turkey</th>\n",
              "      <th>Uganda</th>\n",
              "      <th>Ukraine</th>\n",
              "      <th>United_Arab_Emirates</th>\n",
              "      <th>United_Kingdom</th>\n",
              "      <th>United_Republic_of_Tanzania</th>\n",
              "      <th>United_States_of_America</th>\n",
              "      <th>Uzbekistan</th>\n",
              "      <th>Venezuela</th>\n",
              "      <th>Zambia</th>\n",
              "      <th>Zimbabwe</th>\n",
              "    </tr>\n",
              "    <tr>\n",
              "      <th>dateRep</th>\n",
              "      <th></th>\n",
              "      <th></th>\n",
              "      <th></th>\n",
              "      <th></th>\n",
              "      <th></th>\n",
              "      <th></th>\n",
              "      <th></th>\n",
              "      <th></th>\n",
              "      <th></th>\n",
              "      <th></th>\n",
              "      <th></th>\n",
              "      <th></th>\n",
              "      <th></th>\n",
              "      <th></th>\n",
              "      <th></th>\n",
              "      <th></th>\n",
              "      <th></th>\n",
              "      <th></th>\n",
              "      <th></th>\n",
              "      <th></th>\n",
              "      <th></th>\n",
              "      <th></th>\n",
              "      <th></th>\n",
              "      <th></th>\n",
              "      <th></th>\n",
              "      <th></th>\n",
              "      <th></th>\n",
              "      <th></th>\n",
              "      <th></th>\n",
              "      <th></th>\n",
              "      <th></th>\n",
              "      <th></th>\n",
              "      <th></th>\n",
              "      <th></th>\n",
              "      <th></th>\n",
              "      <th></th>\n",
              "      <th></th>\n",
              "      <th></th>\n",
              "      <th></th>\n",
              "      <th></th>\n",
              "      <th></th>\n",
              "      <th></th>\n",
              "      <th></th>\n",
              "      <th></th>\n",
              "      <th></th>\n",
              "      <th></th>\n",
              "      <th></th>\n",
              "      <th></th>\n",
              "      <th></th>\n",
              "      <th></th>\n",
              "      <th></th>\n",
              "      <th></th>\n",
              "      <th></th>\n",
              "      <th></th>\n",
              "      <th></th>\n",
              "      <th></th>\n",
              "      <th></th>\n",
              "      <th></th>\n",
              "      <th></th>\n",
              "      <th></th>\n",
              "      <th></th>\n",
              "      <th></th>\n",
              "      <th></th>\n",
              "      <th></th>\n",
              "      <th></th>\n",
              "      <th></th>\n",
              "      <th></th>\n",
              "      <th></th>\n",
              "      <th></th>\n",
              "      <th></th>\n",
              "      <th></th>\n",
              "      <th></th>\n",
              "      <th></th>\n",
              "      <th></th>\n",
              "      <th></th>\n",
              "      <th></th>\n",
              "      <th></th>\n",
              "      <th></th>\n",
              "      <th></th>\n",
              "      <th></th>\n",
              "      <th></th>\n",
              "    </tr>\n",
              "  </thead>\n",
              "  <tbody>\n",
              "    <tr>\n",
              "      <th>01/02/2020</th>\n",
              "      <td>NaN</td>\n",
              "      <td>NaN</td>\n",
              "      <td>NaN</td>\n",
              "      <td>NaN</td>\n",
              "      <td>NaN</td>\n",
              "      <td>NaN</td>\n",
              "      <td>NaN</td>\n",
              "      <td>NaN</td>\n",
              "      <td>NaN</td>\n",
              "      <td>NaN</td>\n",
              "      <td>NaN</td>\n",
              "      <td>NaN</td>\n",
              "      <td>NaN</td>\n",
              "      <td>NaN</td>\n",
              "      <td>NaN</td>\n",
              "      <td>NaN</td>\n",
              "      <td>NaN</td>\n",
              "      <td>NaN</td>\n",
              "      <td>NaN</td>\n",
              "      <td>NaN</td>\n",
              "      <td>NaN</td>\n",
              "      <td>NaN</td>\n",
              "      <td>NaN</td>\n",
              "      <td>2095.0</td>\n",
              "      <td>NaN</td>\n",
              "      <td>NaN</td>\n",
              "      <td>NaN</td>\n",
              "      <td>NaN</td>\n",
              "      <td>NaN</td>\n",
              "      <td>NaN</td>\n",
              "      <td>NaN</td>\n",
              "      <td>NaN</td>\n",
              "      <td>NaN</td>\n",
              "      <td>NaN</td>\n",
              "      <td>NaN</td>\n",
              "      <td>NaN</td>\n",
              "      <td>NaN</td>\n",
              "      <td>NaN</td>\n",
              "      <td>NaN</td>\n",
              "      <td>NaN</td>\n",
              "      <td>...</td>\n",
              "      <td>NaN</td>\n",
              "      <td>NaN</td>\n",
              "      <td>NaN</td>\n",
              "      <td>NaN</td>\n",
              "      <td>NaN</td>\n",
              "      <td>NaN</td>\n",
              "      <td>NaN</td>\n",
              "      <td>NaN</td>\n",
              "      <td>NaN</td>\n",
              "      <td>NaN</td>\n",
              "      <td>NaN</td>\n",
              "      <td>NaN</td>\n",
              "      <td>NaN</td>\n",
              "      <td>NaN</td>\n",
              "      <td>NaN</td>\n",
              "      <td>NaN</td>\n",
              "      <td>NaN</td>\n",
              "      <td>NaN</td>\n",
              "      <td>NaN</td>\n",
              "      <td>NaN</td>\n",
              "      <td>NaN</td>\n",
              "      <td>NaN</td>\n",
              "      <td>NaN</td>\n",
              "      <td>NaN</td>\n",
              "      <td>NaN</td>\n",
              "      <td>NaN</td>\n",
              "      <td>NaN</td>\n",
              "      <td>NaN</td>\n",
              "      <td>NaN</td>\n",
              "      <td>NaN</td>\n",
              "      <td>NaN</td>\n",
              "      <td>NaN</td>\n",
              "      <td>NaN</td>\n",
              "      <td>NaN</td>\n",
              "      <td>NaN</td>\n",
              "      <td>NaN</td>\n",
              "      <td>NaN</td>\n",
              "      <td>NaN</td>\n",
              "      <td>NaN</td>\n",
              "      <td>NaN</td>\n",
              "    </tr>\n",
              "    <tr>\n",
              "      <th>01/03/2020</th>\n",
              "      <td>NaN</td>\n",
              "      <td>NaN</td>\n",
              "      <td>NaN</td>\n",
              "      <td>NaN</td>\n",
              "      <td>NaN</td>\n",
              "      <td>NaN</td>\n",
              "      <td>NaN</td>\n",
              "      <td>NaN</td>\n",
              "      <td>NaN</td>\n",
              "      <td>NaN</td>\n",
              "      <td>NaN</td>\n",
              "      <td>NaN</td>\n",
              "      <td>NaN</td>\n",
              "      <td>NaN</td>\n",
              "      <td>NaN</td>\n",
              "      <td>NaN</td>\n",
              "      <td>NaN</td>\n",
              "      <td>NaN</td>\n",
              "      <td>NaN</td>\n",
              "      <td>NaN</td>\n",
              "      <td>NaN</td>\n",
              "      <td>NaN</td>\n",
              "      <td>NaN</td>\n",
              "      <td>574.0</td>\n",
              "      <td>NaN</td>\n",
              "      <td>NaN</td>\n",
              "      <td>NaN</td>\n",
              "      <td>NaN</td>\n",
              "      <td>NaN</td>\n",
              "      <td>NaN</td>\n",
              "      <td>NaN</td>\n",
              "      <td>NaN</td>\n",
              "      <td>NaN</td>\n",
              "      <td>NaN</td>\n",
              "      <td>NaN</td>\n",
              "      <td>NaN</td>\n",
              "      <td>NaN</td>\n",
              "      <td>NaN</td>\n",
              "      <td>NaN</td>\n",
              "      <td>NaN</td>\n",
              "      <td>...</td>\n",
              "      <td>NaN</td>\n",
              "      <td>NaN</td>\n",
              "      <td>NaN</td>\n",
              "      <td>NaN</td>\n",
              "      <td>NaN</td>\n",
              "      <td>NaN</td>\n",
              "      <td>NaN</td>\n",
              "      <td>NaN</td>\n",
              "      <td>NaN</td>\n",
              "      <td>NaN</td>\n",
              "      <td>NaN</td>\n",
              "      <td>NaN</td>\n",
              "      <td>NaN</td>\n",
              "      <td>NaN</td>\n",
              "      <td>NaN</td>\n",
              "      <td>NaN</td>\n",
              "      <td>NaN</td>\n",
              "      <td>NaN</td>\n",
              "      <td>NaN</td>\n",
              "      <td>595.0</td>\n",
              "      <td>NaN</td>\n",
              "      <td>NaN</td>\n",
              "      <td>NaN</td>\n",
              "      <td>NaN</td>\n",
              "      <td>NaN</td>\n",
              "      <td>NaN</td>\n",
              "      <td>NaN</td>\n",
              "      <td>NaN</td>\n",
              "      <td>NaN</td>\n",
              "      <td>NaN</td>\n",
              "      <td>NaN</td>\n",
              "      <td>NaN</td>\n",
              "      <td>NaN</td>\n",
              "      <td>NaN</td>\n",
              "      <td>NaN</td>\n",
              "      <td>NaN</td>\n",
              "      <td>NaN</td>\n",
              "      <td>NaN</td>\n",
              "      <td>NaN</td>\n",
              "      <td>NaN</td>\n",
              "    </tr>\n",
              "    <tr>\n",
              "      <th>01/04/2020</th>\n",
              "      <td>NaN</td>\n",
              "      <td>132.0</td>\n",
              "      <td>NaN</td>\n",
              "      <td>NaN</td>\n",
              "      <td>NaN</td>\n",
              "      <td>150.0</td>\n",
              "      <td>564.0</td>\n",
              "      <td>NaN</td>\n",
              "      <td>52.0</td>\n",
              "      <td>NaN</td>\n",
              "      <td>NaN</td>\n",
              "      <td>876.0</td>\n",
              "      <td>NaN</td>\n",
              "      <td>NaN</td>\n",
              "      <td>60.0</td>\n",
              "      <td>1138.0</td>\n",
              "      <td>NaN</td>\n",
              "      <td>51.0</td>\n",
              "      <td>1112.0</td>\n",
              "      <td>NaN</td>\n",
              "      <td>NaN</td>\n",
              "      <td>NaN</td>\n",
              "      <td>289.0</td>\n",
              "      <td>54.0</td>\n",
              "      <td>108.0</td>\n",
              "      <td>NaN</td>\n",
              "      <td>NaN</td>\n",
              "      <td>77.0</td>\n",
              "      <td>NaN</td>\n",
              "      <td>NaN</td>\n",
              "      <td>306.0</td>\n",
              "      <td>NaN</td>\n",
              "      <td>283.0</td>\n",
              "      <td>NaN</td>\n",
              "      <td>208.0</td>\n",
              "      <td>336.0</td>\n",
              "      <td>NaN</td>\n",
              "      <td>NaN</td>\n",
              "      <td>NaN</td>\n",
              "      <td>NaN</td>\n",
              "      <td>...</td>\n",
              "      <td>NaN</td>\n",
              "      <td>115.0</td>\n",
              "      <td>NaN</td>\n",
              "      <td>256.0</td>\n",
              "      <td>1035.0</td>\n",
              "      <td>65.0</td>\n",
              "      <td>88.0</td>\n",
              "      <td>293.0</td>\n",
              "      <td>501.0</td>\n",
              "      <td>NaN</td>\n",
              "      <td>110.0</td>\n",
              "      <td>NaN</td>\n",
              "      <td>159.0</td>\n",
              "      <td>NaN</td>\n",
              "      <td>NaN</td>\n",
              "      <td>NaN</td>\n",
              "      <td>51.0</td>\n",
              "      <td>NaN</td>\n",
              "      <td>NaN</td>\n",
              "      <td>NaN</td>\n",
              "      <td>NaN</td>\n",
              "      <td>7413.0</td>\n",
              "      <td>NaN</td>\n",
              "      <td>NaN</td>\n",
              "      <td>407.0</td>\n",
              "      <td>696.0</td>\n",
              "      <td>NaN</td>\n",
              "      <td>NaN</td>\n",
              "      <td>NaN</td>\n",
              "      <td>2704.0</td>\n",
              "      <td>NaN</td>\n",
              "      <td>69.0</td>\n",
              "      <td>53.0</td>\n",
              "      <td>3009.0</td>\n",
              "      <td>NaN</td>\n",
              "      <td>24998.0</td>\n",
              "      <td>NaN</td>\n",
              "      <td>NaN</td>\n",
              "      <td>NaN</td>\n",
              "      <td>NaN</td>\n",
              "    </tr>\n",
              "    <tr>\n",
              "      <th>01/05/2020</th>\n",
              "      <td>222.0</td>\n",
              "      <td>158.0</td>\n",
              "      <td>NaN</td>\n",
              "      <td>143.0</td>\n",
              "      <td>134.0</td>\n",
              "      <td>NaN</td>\n",
              "      <td>60.0</td>\n",
              "      <td>NaN</td>\n",
              "      <td>119.0</td>\n",
              "      <td>564.0</td>\n",
              "      <td>846.0</td>\n",
              "      <td>660.0</td>\n",
              "      <td>NaN</td>\n",
              "      <td>57.0</td>\n",
              "      <td>101.0</td>\n",
              "      <td>7218.0</td>\n",
              "      <td>59.0</td>\n",
              "      <td>NaN</td>\n",
              "      <td>1649.0</td>\n",
              "      <td>NaN</td>\n",
              "      <td>NaN</td>\n",
              "      <td>NaN</td>\n",
              "      <td>1138.0</td>\n",
              "      <td>NaN</td>\n",
              "      <td>296.0</td>\n",
              "      <td>NaN</td>\n",
              "      <td>NaN</td>\n",
              "      <td>NaN</td>\n",
              "      <td>NaN</td>\n",
              "      <td>NaN</td>\n",
              "      <td>103.0</td>\n",
              "      <td>72.0</td>\n",
              "      <td>150.0</td>\n",
              "      <td>NaN</td>\n",
              "      <td>320.0</td>\n",
              "      <td>259.0</td>\n",
              "      <td>269.0</td>\n",
              "      <td>NaN</td>\n",
              "      <td>NaN</td>\n",
              "      <td>NaN</td>\n",
              "      <td>...</td>\n",
              "      <td>NaN</td>\n",
              "      <td>3045.0</td>\n",
              "      <td>276.0</td>\n",
              "      <td>237.0</td>\n",
              "      <td>295.0</td>\n",
              "      <td>106.0</td>\n",
              "      <td>845.0</td>\n",
              "      <td>262.0</td>\n",
              "      <td>7099.0</td>\n",
              "      <td>NaN</td>\n",
              "      <td>1351.0</td>\n",
              "      <td>51.0</td>\n",
              "      <td>285.0</td>\n",
              "      <td>NaN</td>\n",
              "      <td>528.0</td>\n",
              "      <td>NaN</td>\n",
              "      <td>NaN</td>\n",
              "      <td>NaN</td>\n",
              "      <td>297.0</td>\n",
              "      <td>NaN</td>\n",
              "      <td>NaN</td>\n",
              "      <td>1387.0</td>\n",
              "      <td>NaN</td>\n",
              "      <td>67.0</td>\n",
              "      <td>790.0</td>\n",
              "      <td>179.0</td>\n",
              "      <td>NaN</td>\n",
              "      <td>NaN</td>\n",
              "      <td>NaN</td>\n",
              "      <td>2615.0</td>\n",
              "      <td>NaN</td>\n",
              "      <td>540.0</td>\n",
              "      <td>552.0</td>\n",
              "      <td>6032.0</td>\n",
              "      <td>NaN</td>\n",
              "      <td>29917.0</td>\n",
              "      <td>NaN</td>\n",
              "      <td>NaN</td>\n",
              "      <td>NaN</td>\n",
              "      <td>NaN</td>\n",
              "    </tr>\n",
              "    <tr>\n",
              "      <th>01/06/2020</th>\n",
              "      <td>680.0</td>\n",
              "      <td>127.0</td>\n",
              "      <td>NaN</td>\n",
              "      <td>637.0</td>\n",
              "      <td>355.0</td>\n",
              "      <td>NaN</td>\n",
              "      <td>NaN</td>\n",
              "      <td>248.0</td>\n",
              "      <td>605.0</td>\n",
              "      <td>2545.0</td>\n",
              "      <td>898.0</td>\n",
              "      <td>195.0</td>\n",
              "      <td>NaN</td>\n",
              "      <td>390.0</td>\n",
              "      <td>NaN</td>\n",
              "      <td>16409.0</td>\n",
              "      <td>NaN</td>\n",
              "      <td>NaN</td>\n",
              "      <td>757.0</td>\n",
              "      <td>NaN</td>\n",
              "      <td>NaN</td>\n",
              "      <td>NaN</td>\n",
              "      <td>4830.0</td>\n",
              "      <td>NaN</td>\n",
              "      <td>1147.0</td>\n",
              "      <td>NaN</td>\n",
              "      <td>NaN</td>\n",
              "      <td>NaN</td>\n",
              "      <td>NaN</td>\n",
              "      <td>NaN</td>\n",
              "      <td>NaN</td>\n",
              "      <td>83.0</td>\n",
              "      <td>NaN</td>\n",
              "      <td>160.0</td>\n",
              "      <td>377.0</td>\n",
              "      <td>527.0</td>\n",
              "      <td>1536.0</td>\n",
              "      <td>NaN</td>\n",
              "      <td>NaN</td>\n",
              "      <td>NaN</td>\n",
              "      <td>...</td>\n",
              "      <td>NaN</td>\n",
              "      <td>8805.0</td>\n",
              "      <td>862.0</td>\n",
              "      <td>215.0</td>\n",
              "      <td>297.0</td>\n",
              "      <td>58.0</td>\n",
              "      <td>1648.0</td>\n",
              "      <td>124.0</td>\n",
              "      <td>9268.0</td>\n",
              "      <td>NaN</td>\n",
              "      <td>1877.0</td>\n",
              "      <td>110.0</td>\n",
              "      <td>NaN</td>\n",
              "      <td>NaN</td>\n",
              "      <td>518.0</td>\n",
              "      <td>NaN</td>\n",
              "      <td>NaN</td>\n",
              "      <td>60.0</td>\n",
              "      <td>1716.0</td>\n",
              "      <td>NaN</td>\n",
              "      <td>NaN</td>\n",
              "      <td>209.0</td>\n",
              "      <td>NaN</td>\n",
              "      <td>226.0</td>\n",
              "      <td>429.0</td>\n",
              "      <td>NaN</td>\n",
              "      <td>NaN</td>\n",
              "      <td>NaN</td>\n",
              "      <td>NaN</td>\n",
              "      <td>839.0</td>\n",
              "      <td>NaN</td>\n",
              "      <td>468.0</td>\n",
              "      <td>661.0</td>\n",
              "      <td>1936.0</td>\n",
              "      <td>NaN</td>\n",
              "      <td>19807.0</td>\n",
              "      <td>108.0</td>\n",
              "      <td>51.0</td>\n",
              "      <td>NaN</td>\n",
              "      <td>NaN</td>\n",
              "    </tr>\n",
              "  </tbody>\n",
              "</table>\n",
              "<p>5 rows × 136 columns</p>\n",
              "</div>"
            ],
            "text/plain": [
              "countriesAndTerritories  Afghanistan  Algeria  ...  Zambia  Zimbabwe\n",
              "dateRep                                        ...                  \n",
              "01/02/2020                       NaN      NaN  ...     NaN       NaN\n",
              "01/03/2020                       NaN      NaN  ...     NaN       NaN\n",
              "01/04/2020                       NaN    132.0  ...     NaN       NaN\n",
              "01/05/2020                     222.0    158.0  ...     NaN       NaN\n",
              "01/06/2020                     680.0    127.0  ...     NaN       NaN\n",
              "\n",
              "[5 rows x 136 columns]"
            ]
          },
          "metadata": {
            "tags": []
          },
          "execution_count": 30
        }
      ]
    },
    {
      "cell_type": "code",
      "metadata": {
        "id": "kW6gYHj3c7F8",
        "colab_type": "code",
        "colab": {}
      },
      "source": [
        "mundoPlot = mundoPlot.loc[:,listaPaises]"
      ],
      "execution_count": 31,
      "outputs": []
    },
    {
      "cell_type": "code",
      "metadata": {
        "id": "dizwGmobdHyD",
        "colab_type": "code",
        "colab": {
          "base_uri": "https://localhost:8080/",
          "height": 227
        },
        "outputId": "af1304d4-3221-468b-f265-3085964cfe39"
      },
      "source": [
        "mundoPlot.head()"
      ],
      "execution_count": 32,
      "outputs": [
        {
          "output_type": "execute_result",
          "data": {
            "text/html": [
              "<div>\n",
              "<style scoped>\n",
              "    .dataframe tbody tr th:only-of-type {\n",
              "        vertical-align: middle;\n",
              "    }\n",
              "\n",
              "    .dataframe tbody tr th {\n",
              "        vertical-align: top;\n",
              "    }\n",
              "\n",
              "    .dataframe thead th {\n",
              "        text-align: right;\n",
              "    }\n",
              "</style>\n",
              "<table border=\"1\" class=\"dataframe\">\n",
              "  <thead>\n",
              "    <tr style=\"text-align: right;\">\n",
              "      <th>countriesAndTerritories</th>\n",
              "      <th>Brazil</th>\n",
              "      <th>France</th>\n",
              "      <th>Argentina</th>\n",
              "      <th>United_Kingdom</th>\n",
              "      <th>United_States_of_America</th>\n",
              "      <th>Italy</th>\n",
              "    </tr>\n",
              "    <tr>\n",
              "      <th>dateRep</th>\n",
              "      <th></th>\n",
              "      <th></th>\n",
              "      <th></th>\n",
              "      <th></th>\n",
              "      <th></th>\n",
              "      <th></th>\n",
              "    </tr>\n",
              "  </thead>\n",
              "  <tbody>\n",
              "    <tr>\n",
              "      <th>01/02/2020</th>\n",
              "      <td>NaN</td>\n",
              "      <td>NaN</td>\n",
              "      <td>NaN</td>\n",
              "      <td>NaN</td>\n",
              "      <td>NaN</td>\n",
              "      <td>NaN</td>\n",
              "    </tr>\n",
              "    <tr>\n",
              "      <th>01/03/2020</th>\n",
              "      <td>NaN</td>\n",
              "      <td>NaN</td>\n",
              "      <td>NaN</td>\n",
              "      <td>NaN</td>\n",
              "      <td>NaN</td>\n",
              "      <td>240.0</td>\n",
              "    </tr>\n",
              "    <tr>\n",
              "      <th>01/04/2020</th>\n",
              "      <td>1138.0</td>\n",
              "      <td>7578.0</td>\n",
              "      <td>NaN</td>\n",
              "      <td>3009.0</td>\n",
              "      <td>24998.0</td>\n",
              "      <td>4053.0</td>\n",
              "    </tr>\n",
              "    <tr>\n",
              "      <th>01/05/2020</th>\n",
              "      <td>7218.0</td>\n",
              "      <td>1139.0</td>\n",
              "      <td>143.0</td>\n",
              "      <td>6032.0</td>\n",
              "      <td>29917.0</td>\n",
              "      <td>1872.0</td>\n",
              "    </tr>\n",
              "    <tr>\n",
              "      <th>01/06/2020</th>\n",
              "      <td>16409.0</td>\n",
              "      <td>257.0</td>\n",
              "      <td>637.0</td>\n",
              "      <td>1936.0</td>\n",
              "      <td>19807.0</td>\n",
              "      <td>355.0</td>\n",
              "    </tr>\n",
              "  </tbody>\n",
              "</table>\n",
              "</div>"
            ],
            "text/plain": [
              "countriesAndTerritories   Brazil  France  ...  United_States_of_America   Italy\n",
              "dateRep                                   ...                                  \n",
              "01/02/2020                   NaN     NaN  ...                       NaN     NaN\n",
              "01/03/2020                   NaN     NaN  ...                       NaN   240.0\n",
              "01/04/2020                1138.0  7578.0  ...                   24998.0  4053.0\n",
              "01/05/2020                7218.0  1139.0  ...                   29917.0  1872.0\n",
              "01/06/2020               16409.0   257.0  ...                   19807.0   355.0\n",
              "\n",
              "[5 rows x 6 columns]"
            ]
          },
          "metadata": {
            "tags": []
          },
          "execution_count": 32
        }
      ]
    },
    {
      "cell_type": "code",
      "metadata": {
        "id": "mZOs-2hxdKwL",
        "colab_type": "code",
        "colab": {}
      },
      "source": [
        "mundoPlot.fillna(0,inplace=True)"
      ],
      "execution_count": 33,
      "outputs": []
    },
    {
      "cell_type": "code",
      "metadata": {
        "id": "AbMeyXqZdbGs",
        "colab_type": "code",
        "colab": {
          "base_uri": "https://localhost:8080/",
          "height": 227
        },
        "outputId": "57038a82-5054-47e4-a7ad-6cbb89081183"
      },
      "source": [
        "mundoPlot.head()"
      ],
      "execution_count": 34,
      "outputs": [
        {
          "output_type": "execute_result",
          "data": {
            "text/html": [
              "<div>\n",
              "<style scoped>\n",
              "    .dataframe tbody tr th:only-of-type {\n",
              "        vertical-align: middle;\n",
              "    }\n",
              "\n",
              "    .dataframe tbody tr th {\n",
              "        vertical-align: top;\n",
              "    }\n",
              "\n",
              "    .dataframe thead th {\n",
              "        text-align: right;\n",
              "    }\n",
              "</style>\n",
              "<table border=\"1\" class=\"dataframe\">\n",
              "  <thead>\n",
              "    <tr style=\"text-align: right;\">\n",
              "      <th>countriesAndTerritories</th>\n",
              "      <th>Brazil</th>\n",
              "      <th>France</th>\n",
              "      <th>Argentina</th>\n",
              "      <th>United_Kingdom</th>\n",
              "      <th>United_States_of_America</th>\n",
              "      <th>Italy</th>\n",
              "    </tr>\n",
              "    <tr>\n",
              "      <th>dateRep</th>\n",
              "      <th></th>\n",
              "      <th></th>\n",
              "      <th></th>\n",
              "      <th></th>\n",
              "      <th></th>\n",
              "      <th></th>\n",
              "    </tr>\n",
              "  </thead>\n",
              "  <tbody>\n",
              "    <tr>\n",
              "      <th>01/02/2020</th>\n",
              "      <td>0.0</td>\n",
              "      <td>0.0</td>\n",
              "      <td>0.0</td>\n",
              "      <td>0.0</td>\n",
              "      <td>0.0</td>\n",
              "      <td>0.0</td>\n",
              "    </tr>\n",
              "    <tr>\n",
              "      <th>01/03/2020</th>\n",
              "      <td>0.0</td>\n",
              "      <td>0.0</td>\n",
              "      <td>0.0</td>\n",
              "      <td>0.0</td>\n",
              "      <td>0.0</td>\n",
              "      <td>240.0</td>\n",
              "    </tr>\n",
              "    <tr>\n",
              "      <th>01/04/2020</th>\n",
              "      <td>1138.0</td>\n",
              "      <td>7578.0</td>\n",
              "      <td>0.0</td>\n",
              "      <td>3009.0</td>\n",
              "      <td>24998.0</td>\n",
              "      <td>4053.0</td>\n",
              "    </tr>\n",
              "    <tr>\n",
              "      <th>01/05/2020</th>\n",
              "      <td>7218.0</td>\n",
              "      <td>1139.0</td>\n",
              "      <td>143.0</td>\n",
              "      <td>6032.0</td>\n",
              "      <td>29917.0</td>\n",
              "      <td>1872.0</td>\n",
              "    </tr>\n",
              "    <tr>\n",
              "      <th>01/06/2020</th>\n",
              "      <td>16409.0</td>\n",
              "      <td>257.0</td>\n",
              "      <td>637.0</td>\n",
              "      <td>1936.0</td>\n",
              "      <td>19807.0</td>\n",
              "      <td>355.0</td>\n",
              "    </tr>\n",
              "  </tbody>\n",
              "</table>\n",
              "</div>"
            ],
            "text/plain": [
              "countriesAndTerritories   Brazil  France  ...  United_States_of_America   Italy\n",
              "dateRep                                   ...                                  \n",
              "01/02/2020                   0.0     0.0  ...                       0.0     0.0\n",
              "01/03/2020                   0.0     0.0  ...                       0.0   240.0\n",
              "01/04/2020                1138.0  7578.0  ...                   24998.0  4053.0\n",
              "01/05/2020                7218.0  1139.0  ...                   29917.0  1872.0\n",
              "01/06/2020               16409.0   257.0  ...                   19807.0   355.0\n",
              "\n",
              "[5 rows x 6 columns]"
            ]
          },
          "metadata": {
            "tags": []
          },
          "execution_count": 34
        }
      ]
    },
    {
      "cell_type": "code",
      "metadata": {
        "id": "JeqNSMGIdcIO",
        "colab_type": "code",
        "colab": {
          "base_uri": "https://localhost:8080/",
          "height": 296
        },
        "outputId": "f9d07be8-2af8-4680-e301-03488ce2f21b"
      },
      "source": [
        "mundoPlot.plot()"
      ],
      "execution_count": 35,
      "outputs": [
        {
          "output_type": "execute_result",
          "data": {
            "text/plain": [
              "<matplotlib.axes._subplots.AxesSubplot at 0x7fa256408390>"
            ]
          },
          "metadata": {
            "tags": []
          },
          "execution_count": 35
        },
        {
          "output_type": "display_data",
          "data": {
            "image/png": "[encoded data removed]",
            "text/plain": [
              "<Figure size 432x288 with 1 Axes>"
            ]
          },
          "metadata": {
            "tags": [],
            "needs_background": "light"
          }
        }
      ]
    },
    {
      "cell_type": "code",
      "metadata": {
        "id": "QMGYbdsDdnT9",
        "colab_type": "code",
        "colab": {}
      },
      "source": [
        "plt.style.use('seaborn')"
      ],
      "execution_count": 36,
      "outputs": []
    },
    {
      "cell_type": "code",
      "metadata": {
        "id": "NIN_BKQcd2_S",
        "colab_type": "code",
        "colab": {
          "base_uri": "https://localhost:8080/",
          "height": 622
        },
        "outputId": "a5fd67c7-d45a-4d5e-a657-560deb63d07a"
      },
      "source": [
        "mundoPlot.plot(figsize=(20,10))"
      ],
      "execution_count": 37,
      "outputs": [
        {
          "output_type": "execute_result",
          "data": {
            "text/plain": [
              "<matplotlib.axes._subplots.AxesSubplot at 0x7fa2563115f8>"
            ]
          },
          "metadata": {
            "tags": []
          },
          "execution_count": 37
        },
        {
          "output_type": "display_data",
          "data": {
            "image/png": "[encoded data removed]",
            "text/plain": [
              "<Figure size 1440x720 with 1 Axes>"
            ]
          },
          "metadata": {
            "tags": []
          }
        }
      ]
    }
  ]
}